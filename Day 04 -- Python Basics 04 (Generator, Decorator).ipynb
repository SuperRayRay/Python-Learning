{
 "cells": [
  {
   "cell_type": "markdown",
   "metadata": {},
   "source": [
    "### 1. List Comprehensions, Generator and Iterator\n",
    "#### 1. List Comprehensions"
   ]
  },
  {
   "cell_type": "code",
   "execution_count": 8,
   "metadata": {
    "collapsed": false
   },
   "outputs": [
    {
     "name": "stdout",
     "output_type": "stream",
     "text": [
      "<map object at 0x0000016D6F3F80F0>\n",
      "1 2 3 4 5 6 7 8 9 10 \n",
      "[1, 2, 3, 4, 5, 6, 7, 8, 9, 10]\n"
     ]
    }
   ],
   "source": [
    "# Suppose a = [0, 1, 2, 3, 4, 5, 6, 7, 8, 9], add 1 to each element in the list using list comprehensions.\n",
    "\n",
    "# Method 1\n",
    "a = [0, 1, 2, 3, 4, 5, 6, 7, 8, 9]\n",
    "a = map(lambda x:x+1, a)\n",
    "print(a)\n",
    "for i in a:\n",
    "    print(i, end = ' ')\n",
    "print()\n",
    "\n",
    "# Method 2\n",
    "a = [i+1 for i in range(10)]\n",
    "print(a)"
   ]
  },
  {
   "cell_type": "markdown",
   "metadata": {},
   "source": [
    "#### 2. Generator\n",
    "Characteristic of generator: <br>\n",
    "- The corresponding data is generated only when called. <br>\n",
    "- Record only the current location. <br>\n",
    "- Only contains one method, __next__()."
   ]
  },
  {
   "cell_type": "code",
   "execution_count": 9,
   "metadata": {
    "collapsed": false
   },
   "outputs": [
    {
     "name": "stdout",
     "output_type": "stream",
     "text": [
      "<generator object <genexpr> at 0x0000016D6F328DB0>\n",
      "0\n",
      "1\n",
      "4 9 16 25 36 49 64 81 "
     ]
    }
   ],
   "source": [
    "# Creating a generator\n",
    "\n",
    "# Method 1: change [] in list comprehensions into ()\n",
    "g = (x*x for x in range(10))\n",
    "print(g)\n",
    "\n",
    "# Each time when next(g) or g.__next__() is called, \n",
    "# value of the next element of g is calculated until the last one. \n",
    "# When there are no more elements, a StopIteration error is thrown.\n",
    "print(g.__next__()) # get the 1st element in g\n",
    "print(next(g))      # get the 2nd element in g\n",
    "for i in g:         # get the rest element in g\n",
    "    print(i, end=' ')"
   ]
  },
  {
   "cell_type": "code",
   "execution_count": 10,
   "metadata": {
    "collapsed": true
   },
   "outputs": [],
   "source": [
    "# Method 2: \n",
    "# If the algorithm of calculation is complicated, \n",
    "# the simple for loop used in list comprehensions cannot be implemented, \n",
    "# a generator can also be generated using functions.\n",
    "\n",
    "# Create a generator that can generate Fibnacci numbers, 1,1,2,3,5,8...\n",
    "# step 1: create a function that can print the generated Fibnacci numbers\n",
    "def fibonacci(max):\n",
    "    n, a, b = 0, 0, 1\n",
    "    while n < max:\n",
    "        print(b)\n",
    "        a, b = b, a + b # same as t=(b, a+b); a=t[0]; b=t[1]\n",
    "        n = n + 1\n",
    "    return 'done'"
   ]
  },
  {
   "cell_type": "code",
   "execution_count": 11,
   "metadata": {
    "collapsed": false
   },
   "outputs": [
    {
     "name": "stdout",
     "output_type": "stream",
     "text": [
      "1\n",
      "1\n",
      "2\n",
      "3\n",
      "5\n"
     ]
    },
    {
     "data": {
      "text/plain": [
       "'done'"
      ]
     },
     "execution_count": 11,
     "metadata": {},
     "output_type": "execute_result"
    }
   ],
   "source": [
    "fibonacci(5)"
   ]
  },
  {
   "cell_type": "code",
   "execution_count": 12,
   "metadata": {
    "collapsed": true
   },
   "outputs": [],
   "source": [
    "# step 2: change the function that can generate Fibnacci numbers \n",
    "#         into a generator by changing 'print(b)' into 'yield b'.\n",
    "def fibonacci(max):\n",
    "    n, a, b = 0, 0, 1\n",
    "    while n < max:\n",
    "        yield b\n",
    "        a, b = b, a + b # same as t=(b, a+b); a=t[0]; b=t[1]\n",
    "        n = n + 1\n",
    "    return 'done'"
   ]
  },
  {
   "cell_type": "code",
   "execution_count": 13,
   "metadata": {
    "collapsed": false
   },
   "outputs": [
    {
     "name": "stdout",
     "output_type": "stream",
     "text": [
      "1\n",
      "1\n",
      "2\n",
      "---------------\n",
      "3\n",
      "5\n"
     ]
    }
   ],
   "source": [
    "fib = fibonacci(5)\n",
    "print(fib.__next__())\n",
    "print(fib.__next__())\n",
    "print(fib.__next__())\n",
    "print('---------------')\n",
    "print(fib.__next__())\n",
    "print(fib.__next__())"
   ]
  },
  {
   "cell_type": "code",
   "execution_count": 14,
   "metadata": {
    "collapsed": false
   },
   "outputs": [
    {
     "name": "stdout",
     "output_type": "stream",
     "text": [
      "g: 1\n",
      "g: 1\n",
      "g: 2\n",
      "g: 3\n",
      "g: 5\n",
      "g: 8\n",
      "Generator return value: done\n"
     ]
    }
   ],
   "source": [
    "# However, when calling the fibnacci generator, we found that we could \n",
    "# not get the return value from the return statement of generator. \n",
    "# If we want to get the return value, we must catch the StopIteration error, \n",
    "# the return value is included in the value of stopiteration.\n",
    "g = fibonacci(6)\n",
    "while True:\n",
    "    try:\n",
    "        x = next(g)\n",
    "        print('g:', x)\n",
    "    except StopIteration as e:\n",
    "        print('Generator return value:', e.value)\n",
    "        break"
   ]
  },
  {
   "cell_type": "code",
   "execution_count": 15,
   "metadata": {
    "collapsed": true
   },
   "outputs": [],
   "source": [
    "def fibonacci(max):\n",
    "    n, a, b = 0, 0, 1\n",
    "    print('===')\n",
    "    while n < max:\n",
    "        yield b\n",
    "        a, b = b, a + b # same as t=(b, a+b); a=t[0]; b=t[1]\n",
    "        n = n + 1\n",
    "        print('---')\n",
    "    return 'done'"
   ]
  },
  {
   "cell_type": "code",
   "execution_count": 16,
   "metadata": {
    "collapsed": false,
    "scrolled": true
   },
   "outputs": [
    {
     "name": "stdout",
     "output_type": "stream",
     "text": [
      "===\n",
      "---\n",
      "---\n",
      "---\n",
      "3\n",
      "---\n"
     ]
    },
    {
     "data": {
      "text/plain": [
       "5"
      ]
     },
     "execution_count": 16,
     "metadata": {},
     "output_type": "execute_result"
    }
   ],
   "source": [
    "fib = fibonacci(5)\n",
    "\n",
    "fib.__next__()\n",
    "fib.__next__()\n",
    "fib.__next__()\n",
    "print(fib.__next__())\n",
    "fib.__next__()"
   ]
  },
  {
   "cell_type": "code",
   "execution_count": 17,
   "metadata": {
    "collapsed": true
   },
   "outputs": [],
   "source": [
    "# Through yield, the effect of concurrent operation in single thread cases \n",
    "# can be implemented.\n",
    "# Example Code:\n",
    "# Part I\n",
    "def consumer(name):\n",
    "    print(\"%s! Time for dessert!\" %name)\n",
    "    while True:\n",
    "        cake = yield\n",
    "        print(\"Cake[%s] is coming, eaten by [%s]!\" %(cake, name))"
   ]
  },
  {
   "cell_type": "code",
   "execution_count": 18,
   "metadata": {
    "collapsed": false
   },
   "outputs": [
    {
     "name": "stdout",
     "output_type": "stream",
     "text": [
      "Ella! Time for dessert!\n",
      "Cake[canoli] is coming, eaten by [Ella]!\n",
      "Cake[None] is coming, eaten by [Ella]!\n"
     ]
    }
   ],
   "source": [
    "c = consumer('Ella')\n",
    "cake = 'canoli'\n",
    "\n",
    "c.__next__()\n",
    "c.send(cake) # pass a value to yielded parameters\n",
    "             # Note: send() cannot be used before __next__()\n",
    "c.__next__()"
   ]
  },
  {
   "cell_type": "code",
   "execution_count": 19,
   "metadata": {
    "collapsed": true
   },
   "outputs": [],
   "source": [
    "# Part II\n",
    "import time\n",
    "\n",
    "def producer(name):\n",
    "    c1 = consumer('A')\n",
    "    c2 = consumer('B')\n",
    "    c1.__next__()\n",
    "    c2.__next__()\n",
    "    print('%s starts preparing cakes...' %name)\n",
    "    \n",
    "    for i in range(6):\n",
    "        time.sleep(1)\n",
    "        print('Got one cake, split into 2 halves!')\n",
    "        c1.send(i)\n",
    "        c2.send(i)"
   ]
  },
  {
   "cell_type": "code",
   "execution_count": 20,
   "metadata": {
    "collapsed": false,
    "scrolled": true
   },
   "outputs": [
    {
     "name": "stdout",
     "output_type": "stream",
     "text": [
      "A! Time for dessert!\n",
      "B! Time for dessert!\n",
      "Wendy starts preparing cakes...\n",
      "Got one cake, split into 2 halves!\n",
      "Cake[0] is coming, eaten by [A]!\n",
      "Cake[0] is coming, eaten by [B]!\n",
      "Got one cake, split into 2 halves!\n",
      "Cake[1] is coming, eaten by [A]!\n",
      "Cake[1] is coming, eaten by [B]!\n",
      "Got one cake, split into 2 halves!\n",
      "Cake[2] is coming, eaten by [A]!\n",
      "Cake[2] is coming, eaten by [B]!\n",
      "Got one cake, split into 2 halves!\n",
      "Cake[3] is coming, eaten by [A]!\n",
      "Cake[3] is coming, eaten by [B]!\n",
      "Got one cake, split into 2 halves!\n",
      "Cake[4] is coming, eaten by [A]!\n",
      "Cake[4] is coming, eaten by [B]!\n",
      "Got one cake, split into 2 halves!\n",
      "Cake[5] is coming, eaten by [A]!\n",
      "Cake[5] is coming, eaten by [B]!\n"
     ]
    }
   ],
   "source": [
    "producer('Wendy')"
   ]
  },
  {
   "cell_type": "markdown",
   "metadata": {},
   "source": [
    "#### 3. Iterable & Iterator\n",
    "#### 3.1 Iterable\n",
    "Objects that can directly be traversed using for loops are collectively referred to as iterable objects. <br>\n",
    "To determine whether an object is an iterable object, use method isinstance(). "
   ]
  },
  {
   "cell_type": "code",
   "execution_count": 21,
   "metadata": {
    "collapsed": false
   },
   "outputs": [
    {
     "name": "stdout",
     "output_type": "stream",
     "text": [
      "True\n",
      "True\n",
      "True\n",
      "True\n",
      "False\n"
     ]
    }
   ],
   "source": [
    "from collections import Iterable\n",
    "\n",
    "# check whether a list is an iterable object \n",
    "print(isinstance([], Iterable)) \n",
    "# check whether a map is an iterable object\n",
    "print(isinstance({}, Iterable)) \n",
    "# check whether a string is an iterable object\n",
    "print(isinstance('abc', Iterable)) \n",
    "# check whether a list comprehensions is an iterable object\n",
    "print(isinstance((x for x in range(10)), Iterable))\n",
    "# check whether an integer is an iterable object\n",
    "print(isinstance(100, Iterable))"
   ]
  },
  {
   "cell_type": "markdown",
   "metadata": {},
   "source": [
    "#### 3.2 Iterator\n",
    "Objects that can be traversed using next() function and constantly return the next value is called an iterator. <br>\n",
    "To determine whether an object is an iterable object, use method isinstance(). "
   ]
  },
  {
   "cell_type": "code",
   "execution_count": 22,
   "metadata": {
    "collapsed": false,
    "scrolled": true
   },
   "outputs": [
    {
     "name": "stdout",
     "output_type": "stream",
     "text": [
      "False\n",
      "False\n",
      "True\n",
      "False\n"
     ]
    }
   ],
   "source": [
    "from collections import Iterator\n",
    "\n",
    "# check whether a list is an iterable object\n",
    "print(isinstance([], Iterator))\n",
    "# check whether a map is an iterable object\n",
    "print(isinstance({}, Iterator))\n",
    "# check whether a list comprehensions is an iterable object\n",
    "print(isinstance((x for x in range(10)), Iterator))\n",
    "# check whether a string is an iterable object\n",
    "print(isinstance('abc', Iterator))"
   ]
  },
  {
   "cell_type": "markdown",
   "metadata": {},
   "source": [
    "Generator is iterator object. List, dict and string are iteratable objects, but not iterator.           \n",
    "To transfer list, dict, string and other iterable objects into iterator, use function iter()."
   ]
  },
  {
   "cell_type": "code",
   "execution_count": 23,
   "metadata": {
    "collapsed": false
   },
   "outputs": [
    {
     "name": "stdout",
     "output_type": "stream",
     "text": [
      "True\n",
      "True\n"
     ]
    }
   ],
   "source": [
    "print(isinstance(iter([]), Iterator))\n",
    "print(isinstance(iter('abc'), Iterator))"
   ]
  },
  {
   "cell_type": "markdown",
   "metadata": {},
   "source": [
    "### 2. Decorator"
   ]
  },
  {
   "cell_type": "markdown",
   "metadata": {},
   "source": [
    "Prior knowledge of building a decorator: \n",
    "- functions are variables in Python\n",
    "- high order function\n",
    "- nested function \n",
    "\n",
    "higher order function + nested function --> decorator"
   ]
  },
  {
   "cell_type": "code",
   "execution_count": 24,
   "metadata": {
    "collapsed": false
   },
   "outputs": [
    {
     "name": "stdout",
     "output_type": "stream",
     "text": [
      "In the bar\n",
      "The total runnning time is 3.0005788803100586 sec\n"
     ]
    }
   ],
   "source": [
    "# Pass a function name as an argument to another function,\n",
    "# add function without modifying the source code of the decorated function\n",
    "import time\n",
    "\n",
    "def bar():\n",
    "    time.sleep(3) # delay 3 sec \n",
    "    print('In the bar')\n",
    "    \n",
    "def timmer(func):\n",
    "    start_time = time.time()\n",
    "    func()\n",
    "    stop_time = time.time()\n",
    "    print('The total runnning time is %s sec' %(stop_time-start_time))\n",
    "    \n",
    "timmer(bar)"
   ]
  },
  {
   "cell_type": "code",
   "execution_count": 25,
   "metadata": {
    "collapsed": false
   },
   "outputs": [
    {
     "name": "stdout",
     "output_type": "stream",
     "text": [
      "<function bar at 0x0000016D6F3C6B70>\n",
      "In the bar\n"
     ]
    }
   ],
   "source": [
    "# The return value contains the function name to make sure\n",
    "# the calling method of the function is not modified\n",
    "import time\n",
    "\n",
    "def bar():\n",
    "    time.sleep(3) # delay 3 sec \n",
    "    print('In the bar')\n",
    "    \n",
    "def timmer(func):\n",
    "    print(func)\n",
    "    return func\n",
    "    \n",
    "bar = timmer(bar)\n",
    "bar()"
   ]
  },
  {
   "cell_type": "code",
   "execution_count": 26,
   "metadata": {
    "collapsed": true
   },
   "outputs": [],
   "source": [
    "# higher order function + nested function --> decorator\n",
    "def timer(func):\n",
    "    # Introducing non-fixed parameters when defining decorator\n",
    "    def decorator(*args, **kwargs): \n",
    "        start_time = time.time()\n",
    "        # Note: non-fixed parameters are also used when performing \n",
    "        # functions that need to be decorated.\n",
    "        func(*args, **kwargs) \n",
    "        stop_time = time.time()\n",
    "        print('The total runnning time is %s sec' %(stop_time-start_time))\n",
    "        \n",
    "    return decorator \n",
    "\n",
    "@ timer # same as test1 = timer(test1)\n",
    "def test1():\n",
    "    time.sleep(3) # delay 3 sec\n",
    "    print('In test 1')\n",
    "\n",
    "@ timer # same as test2 = timer(test2)\n",
    "def test2(name, age):\n",
    "    time.sleep(3) # delay 3 sec\n",
    "    print('In test 2:', name, age)"
   ]
  },
  {
   "cell_type": "code",
   "execution_count": 27,
   "metadata": {
    "collapsed": false
   },
   "outputs": [
    {
     "name": "stdout",
     "output_type": "stream",
     "text": [
      "In test 1\n",
      "The total runnning time is 3.000075340270996 sec\n",
      "In test 2: Alex 26\n",
      "The total runnning time is 3.000328302383423 sec\n"
     ]
    }
   ],
   "source": [
    "test1()\n",
    "test2('Alex', 26)"
   ]
  },
  {
   "cell_type": "code",
   "execution_count": 28,
   "metadata": {
    "collapsed": false
   },
   "outputs": [
    {
     "name": "stdout",
     "output_type": "stream",
     "text": [
      "In test 1\n",
      "The total runnning time is 3.000713586807251 sec\n",
      "The total runnning time is 3.000713586807251 sec\n"
     ]
    }
   ],
   "source": [
    "test1 = timer(test1)\n",
    "test1()"
   ]
  },
  {
   "cell_type": "code",
   "execution_count": 29,
   "metadata": {
    "collapsed": false
   },
   "outputs": [
    {
     "name": "stdout",
     "output_type": "stream",
     "text": [
      "In test 2: Alex 26\n",
      "The total runnning time is 3.003225326538086 sec\n",
      "The total runnning time is 3.003225326538086 sec\n"
     ]
    }
   ],
   "source": [
    "test2 = timer(test2)\n",
    "test2('Alex', 26)"
   ]
  },
  {
   "cell_type": "markdown",
   "metadata": {},
   "source": [
    "In the following code, the home function has its own return value, but after being decorated by the decorator, the return value becomes None. The main reason is that the decorator only calls the function but does not return any value."
   ]
  },
  {
   "cell_type": "code",
   "execution_count": 1,
   "metadata": {
    "collapsed": true
   },
   "outputs": [],
   "source": [
    "user = 'linux'\n",
    "passwd = '123'\n",
    "\n",
    "def authentification(func):\n",
    "    def decorator(*args, **kwargs):\n",
    "        username = input('Username:').strip()\n",
    "        password = input('Password:').strip()\n",
    "        \n",
    "        if user==username and passwd==password:\n",
    "            print('\\033[32;1mUser has passed authentification!\\033[0m')\n",
    "            func(*args, **kwargs)\n",
    "        else:\n",
    "            print('\\033[31;1mInvalid username or password!\\033[0m')\n",
    "            exit()\n",
    "    return decorator\n",
    "\n",
    "def index():\n",
    "    print('Welcome to index page...')\n",
    "    \n",
    "@authentification  \n",
    "def home():\n",
    "    print('Welcome to home page...')\n",
    "    return 'From home!'   \n",
    "\n",
    "@authentification   \n",
    "def bbs():\n",
    "    print('Welcome to bbs page...')"
   ]
  },
  {
   "cell_type": "code",
   "execution_count": 2,
   "metadata": {
    "collapsed": false
   },
   "outputs": [
    {
     "name": "stdout",
     "output_type": "stream",
     "text": [
      "Welcome to index page...\n",
      "Username:linux\n",
      "Password:123\n",
      "\u001b[32;1mUser has passed authentification!\u001b[0m\n",
      "Welcome to home page...\n",
      "None\n",
      "Username:linux\n",
      "Password:123\n",
      "\u001b[32;1mUser has passed authentification!\u001b[0m\n",
      "Welcome to bbs page...\n"
     ]
    }
   ],
   "source": [
    "index()\n",
    "print(home())\n",
    "bbs()"
   ]
  },
  {
   "cell_type": "markdown",
   "metadata": {},
   "source": [
    "After modifying the decorator as follows, the problem of return value will be solved:"
   ]
  },
  {
   "cell_type": "code",
   "execution_count": 3,
   "metadata": {
    "collapsed": false
   },
   "outputs": [],
   "source": [
    "user = 'linux'\n",
    "passwd = '123'\n",
    "\n",
    "def authentification(func):\n",
    "    def decorator(*args, **kwargs):\n",
    "        username = input('Username:').strip()\n",
    "        password = input('Password:').strip()\n",
    "        \n",
    "        if user==username and passwd==password:\n",
    "            print('\\033[32;1mUser has passed authentification!\\033[0m')\n",
    "            ret = func(*args, **kwargs)\n",
    "            print('After Authentification'.center(40, '-'))\n",
    "            return ret\n",
    "        else:\n",
    "            print('\\033[31;1mInvalid username or password!\\033[0m')\n",
    "            exit()\n",
    "    return decorator\n",
    "            \n",
    "def index():\n",
    "    print('Welcome to index page...')\n",
    "    \n",
    "@authentification  \n",
    "def home():\n",
    "    print('Welcome to home page...')\n",
    "    return 'From home!'   \n",
    "\n",
    "@authentification   \n",
    "def bbs():\n",
    "    print('Welcome to bbs page...')"
   ]
  },
  {
   "cell_type": "code",
   "execution_count": 4,
   "metadata": {
    "collapsed": false,
    "scrolled": false
   },
   "outputs": [
    {
     "name": "stdout",
     "output_type": "stream",
     "text": [
      "Welcome to index page...\n",
      "Username:linux\n",
      "Password:123\n",
      "\u001b[32;1mUser has passed authentification!\u001b[0m\n",
      "Welcome to home page...\n",
      "---------After Authentification---------\n",
      "From home!\n",
      "Username:linux\n",
      "Password:123\n",
      "\u001b[32;1mUser has passed authentification!\u001b[0m\n",
      "Welcome to bbs page...\n",
      "---------After Authentification---------\n"
     ]
    }
   ],
   "source": [
    "index()\n",
    "print(home())\n",
    "bbs()"
   ]
  },
  {
   "cell_type": "markdown",
   "metadata": {},
   "source": [
    "Moreover, if the home page needs to log in from local computer and the BBS page needs to log in remotely using LDAP, how can the decorator handle these two different login methods? "
   ]
  },
  {
   "cell_type": "code",
   "execution_count": 5,
   "metadata": {
    "collapsed": true
   },
   "outputs": [],
   "source": [
    "# home在认证时使用本地认证， bbs使用远程ldap认证\n",
    "user = 'linux'\n",
    "passwd = '123'\n",
    "\n",
    "def authentification(auth_type):\n",
    "    print('Authentification Type:', auth_type)\n",
    "    def out_decorator(func):\n",
    "        def decorator(*args, **kwargs):\n",
    "            if auth_type=='local':\n",
    "                username = input('Username:').strip()\n",
    "                password = input('Password:').strip()\n",
    "\n",
    "                if user==username and passwd==password:\n",
    "                    print('\\033[32;1mUser has passed authentification!\\033[0m')\n",
    "                    ret = func(*args, **kwargs)\n",
    "                    print('After Authentification'.center(40, '-'))\n",
    "                    return ret\n",
    "                else:\n",
    "                    print('\\033[31;1mInvalid username or password!\\033[0m')\n",
    "                    exit()\n",
    "            elif auth_type=='ldap':\n",
    "                print('ldap is not supported!')\n",
    "        return decorator\n",
    "    return out_decorator"
   ]
  },
  {
   "cell_type": "code",
   "execution_count": 6,
   "metadata": {
    "collapsed": false
   },
   "outputs": [
    {
     "name": "stdout",
     "output_type": "stream",
     "text": [
      "Authentification Type: local\n",
      "Authentification Type: ldap\n"
     ]
    }
   ],
   "source": [
    "def index():\n",
    "    print('Welcome to index page...')\n",
    "    \n",
    "@authentification(auth_type='local')\n",
    "# same as home = authentification(auth_type='local')\n",
    "def home():\n",
    "    print('Welcome to home page...')\n",
    "    return 'From home!'   \n",
    "\n",
    "@authentification(auth_type='ldap') \n",
    "# same as home = authentification(auth_type='ldpa')\n",
    "def bbs():\n",
    "    print('Welcome to bbs page...')"
   ]
  },
  {
   "cell_type": "code",
   "execution_count": 7,
   "metadata": {
    "collapsed": false
   },
   "outputs": [
    {
     "name": "stdout",
     "output_type": "stream",
     "text": [
      "Welcome to index page...\n",
      "Username:linux\n",
      "Password:123\n",
      "\u001b[32;1mUser has passed authentification!\u001b[0m\n",
      "Welcome to home page...\n",
      "---------After Authentification---------\n",
      "From home!\n",
      "ldap is not supported!\n"
     ]
    }
   ],
   "source": [
    "index()\n",
    "print(home())\n",
    "bbs()"
   ]
  }
 ],
 "metadata": {
  "anaconda-cloud": {},
  "kernelspec": {
   "display_name": "Python [default]",
   "language": "python",
   "name": "python3"
  },
  "language_info": {
   "codemirror_mode": {
    "name": "ipython",
    "version": 3
   },
   "file_extension": ".py",
   "mimetype": "text/x-python",
   "name": "python",
   "nbconvert_exporter": "python",
   "pygments_lexer": "ipython3",
   "version": "3.5.5"
  }
 },
 "nbformat": 4,
 "nbformat_minor": 2
}
