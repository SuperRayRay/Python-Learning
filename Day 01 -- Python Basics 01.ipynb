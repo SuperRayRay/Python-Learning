{
 "cells": [
  {
   "cell_type": "markdown",
   "metadata": {},
   "source": [
    "### If Statement\n",
    "#### Practice\n",
    "Write a simple age guessing program.\n",
    "User input their guesses and the program will return a feedback based on user's input."
   ]
  },
  {
   "cell_type": "code",
   "execution_count": 6,
   "metadata": {
    "collapsed": false
   },
   "outputs": [
    {
     "name": "stdout",
     "output_type": "stream",
     "text": [
      "guess age: 34\n",
      "Too small, think larger!\n",
      "guess age: 59\n",
      "Too large, think smaller!\n",
      "guess age: 56\n",
      "Yes, you got it!\n"
     ]
    }
   ],
   "source": [
    "# Case 1 -- Users only have 3 chances to guess the correct answer. Implement with while loop.\n",
    "\n",
    "age_of_guest = 56\n",
    "\n",
    "count = 0\n",
    "while count < 3:\n",
    "    guess_age = int(input(\"guess age: \")) # assume the input is always an integer.\n",
    "    if guess_age == age_of_guest:\n",
    "        print(\"Yes, you got it!\")\n",
    "        break\n",
    "    elif guess_age > age_of_guest:\n",
    "        print(\"Too large, think smaller!\")\n",
    "    else:\n",
    "        print(\"Too small, think larger!\")    \n",
    "    count += 1\n",
    "    \n",
    "else:\n",
    "    print(\"You have tried too many times!\")"
   ]
  },
  {
   "cell_type": "code",
   "execution_count": 7,
   "metadata": {
    "collapsed": false
   },
   "outputs": [
    {
     "name": "stdout",
     "output_type": "stream",
     "text": [
      "guess age: 23\n",
      "Too small, think larger!\n",
      "guess age: 67\n",
      "Too large, think smaller!\n",
      "guess age: 45\n",
      "Too small, think larger!\n",
      "You have tried too many times!\n"
     ]
    }
   ],
   "source": [
    "# Case 2 -- Users only have 3 chances to guess the correct answer. Implement with for loop.\n",
    "age_of_guest = 56\n",
    "\n",
    "for i in range(3):\n",
    "    guess_age = int(input(\"guess age: \"))\n",
    "    if guess_age == age_of_guest:\n",
    "        print(\"Yes, you got it!\")\n",
    "        break\n",
    "    elif guess_age > age_of_guest:\n",
    "        print(\"Too large, think smaller!\")\n",
    "    else:\n",
    "        print(\"Too small, think larger!\")    \n",
    "    \n",
    "else:\n",
    "    print(\"You have tried too many times!\")"
   ]
  },
  {
   "cell_type": "code",
   "execution_count": 9,
   "metadata": {
    "collapsed": false
   },
   "outputs": [
    {
     "name": "stdout",
     "output_type": "stream",
     "text": [
      "guess age: 23\n",
      "Too small, think larger!\n",
      "guess age: 46\n",
      "Too small, think larger!\n",
      "guess age: 67\n",
      "Too large, think smaller!\n",
      "Do you want to keep guessing? (y/n) Answer: y\n",
      "guess age: 44\n",
      "Too small, think larger!\n",
      "guess age: 56\n",
      "Yes, you got it!\n"
     ]
    }
   ],
   "source": [
    "# Case 3 -- Users only have plenty chances to guess the correct answer. \n",
    "#           Each 3 times if the user is not getting the correct answer, \n",
    "#           ask whether user want to continue guessing.\n",
    "#           Implement with while loop.\n",
    "\n",
    "age_of_guest = 56\n",
    "\n",
    "count = 0\n",
    "while count < 3:\n",
    "    guess_age = int(input(\"guess age: \"))\n",
    "    if guess_age == age_of_guest:\n",
    "        print(\"Yes, you got it!\")\n",
    "        break\n",
    "    elif guess_age > age_of_guest:\n",
    "        print(\"Too large, think smaller!\")\n",
    "    else:\n",
    "        print(\"Too small, think larger!\")    \n",
    "    count += 1\n",
    "    \n",
    "    if count == 3:\n",
    "        flag = input(\"Do you want to keep guessing? (y/n) Answer: \")\n",
    "        if flag != 'n':\n",
    "            count = 0"
   ]
  }
 ],
 "metadata": {
  "kernelspec": {
   "display_name": "Python [default]",
   "language": "python",
   "name": "python3"
  },
  "language_info": {
   "codemirror_mode": {
    "name": "ipython",
    "version": 3
   },
   "file_extension": ".py",
   "mimetype": "text/x-python",
   "name": "python",
   "nbconvert_exporter": "python",
   "pygments_lexer": "ipython3",
   "version": "3.5.5"
  }
 },
 "nbformat": 4,
 "nbformat_minor": 2
}
