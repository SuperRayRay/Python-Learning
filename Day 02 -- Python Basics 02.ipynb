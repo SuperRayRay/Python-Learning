{
 "cells": [
  {
   "cell_type": "markdown",
   "metadata": {},
   "source": [
    "## Basic Data Structures\n",
    "### 1. List\n",
    "List is one of the most commonly used data types in programming languages.<br> Data can be stored and modified conveniently through the list."
   ]
  },
  {
   "cell_type": "code",
   "execution_count": 1,
   "metadata": {
    "collapsed": true
   },
   "outputs": [],
   "source": [
    "# create a list\n",
    "names = ['Alex', 'Helen', 'Chole', 'Jenny', 'Lisa']"
   ]
  },
  {
   "cell_type": "code",
   "execution_count": 2,
   "metadata": {
    "collapsed": false
   },
   "outputs": [
    {
     "name": "stdout",
     "output_type": "stream",
     "text": [
      "['Alex', 'Helen', 'Chole', 'Jenny', 'Lisa']\n",
      "5\n",
      "Alex Helen Chole Jenny Lisa\n"
     ]
    }
   ],
   "source": [
    "# print the list\n",
    "print(names)\n",
    "\n",
    "# get the length of the list\n",
    "print(len(names))\n",
    "\n",
    "# access elements from the list through subscripts, subscripts start from 0.\n",
    "print(names[0], names[1], names[2], names[3], names[4])"
   ]
  },
  {
   "cell_type": "code",
   "execution_count": 3,
   "metadata": {
    "collapsed": false
   },
   "outputs": [
    {
     "name": "stdout",
     "output_type": "stream",
     "text": [
      "['Alex', 'Helen', 'Chole']\n",
      "['Alex', 'Helen', 'Chole']\n",
      "['Helen', 'Chole']\n",
      "Lisa\n",
      "['Chole', 'Jenny', 'Lisa']\n",
      "['Chole', 'Jenny']\n",
      "['Alex', 'Chole']\n",
      "['Alex', 'Chole', 'Lisa']\n"
     ]
    }
   ],
   "source": [
    "# list slicing\n",
    "print(names[0:3])     # get the first 3 elements\n",
    "print(names[:3])      # get the first 3 elements\n",
    "print(names[1:3])     # get the elements from position 1 (included) to position 3 (excluded)\n",
    "print(names[-1])      # get the last element\n",
    "print(names[-3:])     # get the last 3 elements \n",
    "print(names[-3:-1])   # get the elements from the last 3rd position (included) to the last position (excluded)\n",
    "print(names[0:-1:2])  # get the elements from positions with even numbers\n",
    "print(names[::2])     # get the elements from positions with even numbers"
   ]
  },
  {
   "cell_type": "code",
   "execution_count": 4,
   "metadata": {
    "collapsed": false
   },
   "outputs": [
    {
     "name": "stdout",
     "output_type": "stream",
     "text": [
      "['Alex', 'Helen', 'Chole', 'Jenny', 'Lisa', 'Diane']\n",
      "['Alex', 'Lily', 'Helen', 'Chole', 'Jenny', 'Lisa', 'Diane']\n"
     ]
    }
   ],
   "source": [
    "# list appending\n",
    "names.append('Diane')   # add one element from the end of the list\n",
    "print(names)\n",
    "\n",
    "names.insert(1, 'Lily') # insert one element at a specific position (position 1) in the list\n",
    "print(names)"
   ]
  },
  {
   "cell_type": "code",
   "execution_count": 5,
   "metadata": {
    "collapsed": false
   },
   "outputs": [
    {
     "name": "stdout",
     "output_type": "stream",
     "text": [
      "['Alexis', 'Lily', 'Helen', 'Chole', 'Jenny', 'Lisa', 'Diane']\n"
     ]
    }
   ],
   "source": [
    "# element modification in the list\n",
    "names[0] = 'Alexis'     # modify the first element in the list\n",
    "print(names)"
   ]
  },
  {
   "cell_type": "code",
   "execution_count": 6,
   "metadata": {
    "collapsed": false
   },
   "outputs": [
    {
     "name": "stdout",
     "output_type": "stream",
     "text": [
      "['Alexis', 'Helen', 'Chole', 'Jenny', 'Lisa', 'Diane']\n",
      "['Alexis', 'Helen', 'Chole', 'Jenny', 'Lisa']\n",
      "['Alexis', 'Helen', 'Chole', 'Jenny']\n"
     ]
    }
   ],
   "source": [
    "# element removing in the list\n",
    "names.remove('Lily') # remove element 'Lily' from the list\n",
    "print(names)\n",
    "\n",
    "del names[-1]        # remove the last element in the list\n",
    "print(names)\n",
    "\n",
    "names.pop()          # remove and return element at index (default last) in the list\n",
    "print(names)"
   ]
  },
  {
   "cell_type": "code",
   "execution_count": 7,
   "metadata": {
    "collapsed": false
   },
   "outputs": [
    {
     "name": "stdout",
     "output_type": "stream",
     "text": [
      "3\n"
     ]
    }
   ],
   "source": [
    "# check the position of a specific element\n",
    "print(names.index('Jenny'))  # check the position of 'Jenny' in the list"
   ]
  },
  {
   "cell_type": "code",
   "execution_count": 8,
   "metadata": {
    "collapsed": false
   },
   "outputs": [
    {
     "name": "stdout",
     "output_type": "stream",
     "text": [
      "1\n"
     ]
    }
   ],
   "source": [
    "# Count the number of times an element appears in the list\n",
    "print(names.count('Jenny'))"
   ]
  },
  {
   "cell_type": "code",
   "execution_count": 9,
   "metadata": {
    "collapsed": false
   },
   "outputs": [
    {
     "name": "stdout",
     "output_type": "stream",
     "text": [
      "None\n",
      "['Alexis', 'Chole', 'Helen', 'Jenny']\n"
     ]
    }
   ],
   "source": [
    "# sort the list\n",
    "print(names.sort())\n",
    "print(names)"
   ]
  },
  {
   "cell_type": "code",
   "execution_count": 10,
   "metadata": {
    "collapsed": false
   },
   "outputs": [
    {
     "name": "stdout",
     "output_type": "stream",
     "text": [
      "['Alexis', 'Chole', 'Helen', 'Jenny', 'Betty', 'Evelyn']\n",
      "['Betty', 'Evelyn']\n"
     ]
    }
   ],
   "source": [
    "# extend the list \n",
    "names1 = ['Betty', 'Evelyn']\n",
    "names.extend(names1)\n",
    "print(names)\n",
    "print(names1)\n",
    "del names1          # delete the list names1"
   ]
  },
  {
   "cell_type": "code",
   "execution_count": 11,
   "metadata": {
    "collapsed": false
   },
   "outputs": [
    {
     "name": "stdout",
     "output_type": "stream",
     "text": [
      "['Alexis', 'Chole', 'Helen', 'Jenny', 'Betty', 'Evelyn']\n"
     ]
    }
   ],
   "source": [
    "# copy the list\n",
    "names2 = names.copy()\n",
    "print(names2)"
   ]
  },
  {
   "cell_type": "code",
   "execution_count": 12,
   "metadata": {
    "collapsed": false
   },
   "outputs": [
    {
     "name": "stdout",
     "output_type": "stream",
     "text": [
      "['Alexis', 'Chole', 'Helen', ['Jenny', 'Amy'], 'Betty', 'Evelyn']\n",
      "['Alexis', 'Chole', 'Helen', ['Jenny', 'Amy'], 'Betty', 'Evelyn']\n",
      "['Alexis', 'Chole', 'Helen', ['Jenny', 'Amy'], 'Betty', 'Evelyn']\n",
      "['Alexis', 'Chole', 'Helen', ['Jenny', 'Amy'], 'Betty', 'Evelyn']\n",
      "['Alexis', 'Chole', 'Helen', ['Jenny', 'Amy'], 'Betty', 'Evelyn']\n",
      "------------------------After Modification------------------------\n",
      "['Alexis', 'Chole', 'Lise', ['JENNY', 'Amy'], 'Betty', 'Evelyn']\n",
      "['Alexis', 'Chole', 'Helen', ['JENNY', 'Amy'], 'Betty', 'Evelyn']\n",
      "['Alexis', 'Chole', 'Helen', ['JENNY', 'Amy'], 'Betty', 'Evelyn']\n",
      "['Alexis', 'Chole', 'Helen', ['JENNY', 'Amy'], 'Betty', 'Evelyn']\n",
      "['Alexis', 'Chole', 'Helen', ['JENNY', 'Amy'], 'Betty', 'Evelyn']\n",
      "['Alex', ['Saving account', 500]]\n",
      "['Amy', ['Saving account', 500]]\n",
      "['Alex', ['Saving account', 450]]\n",
      "['Amy', ['Saving account', 450]]\n"
     ]
    }
   ],
   "source": [
    "# shallow copy -- copy only the first level of the target list\n",
    "# If the contents of the target list change, list that previously copied from this list will \n",
    "# remain the same only on the first level, deeper level will be changed in exact same way as \n",
    "# the target list.\n",
    "\n",
    "import copy\n",
    "\n",
    "names3 = ['Alexis', 'Chole', 'Helen', ['Jenny', 'Amy'], 'Betty', 'Evelyn']\n",
    "\n",
    "names4 = names3.copy()     # shallow copy -- method 1\n",
    "names5 = copy.copy(names3) # shallow copy -- method 2\n",
    "names6 = names3[:]         # shallow copy -- method 3\n",
    "names7 = list(names3)      # shallow copy -- method 4\n",
    "\n",
    "print(names3)\n",
    "print(names4)\n",
    "print(names5)\n",
    "print(names6)\n",
    "print(names7)\n",
    "\n",
    "names3[2] = \"Lise\"       # modify the 3rd element in names3\n",
    "names3[3][0] = 'JENNY'   # modify the first element of the 4th list element in names3\n",
    "\n",
    "print('------------------------After Modification------------------------')\n",
    "print(names3)\n",
    "print(names4)\n",
    "print(names5)\n",
    "print(names6)\n",
    "print(names7)\n",
    "\n",
    "# shallow copy -- application \n",
    "# Case: suppose a couple that shares the same bank account, when one people withdraws or \n",
    "#       saves money on the account, both of their bank account info will be changed.\n",
    "family = ['name', ['Saving account', 500]]\n",
    "people1 = family.copy()\n",
    "people2 = family.copy()\n",
    "\n",
    "people1[0] = 'Alex'\n",
    "people2[0] = 'Amy'\n",
    "\n",
    "print(people1)\n",
    "print(people2)\n",
    "\n",
    "people1[1][1] -= 50\n",
    "\n",
    "print(people1)\n",
    "print(people2)"
   ]
  },
  {
   "cell_type": "code",
   "execution_count": 13,
   "metadata": {
    "collapsed": false
   },
   "outputs": [
    {
     "name": "stdout",
     "output_type": "stream",
     "text": [
      "['Alexis', 'Chole', 'Helen', ['Jenny', 'Amy'], 'Betty', 'Evelyn']\n",
      "['Alexis', 'Chole', 'Helen', ['Jenny', 'Amy'], 'Betty', 'Evelyn']\n",
      "------------------------After Modification------------------------\n",
      "['Alexis', 'Chole', 'Lise', ['JENNY', 'Amy'], 'Betty', 'Evelyn']\n",
      "['Alexis', 'Chole', 'Helen', ['Jenny', 'Amy'], 'Betty', 'Evelyn']\n"
     ]
    }
   ],
   "source": [
    "# deep copy -- copy the entire contents of the target list\n",
    "# If the contents of the target list change, list that previously copied from this list will \n",
    "# completely remain the same.\n",
    "\n",
    "import copy\n",
    "\n",
    "names3 = ['Alexis', 'Chole', 'Helen', ['Jenny', 'Amy'], 'Betty', 'Evelyn']\n",
    "\n",
    "names4 = copy.deepcopy(names3)\n",
    "\n",
    "print(names3)\n",
    "print(names4)\n",
    "\n",
    "names3[2] = \"Lise\"       # modify the 3rd element in names3\n",
    "names3[3][0] = 'JENNY'   # modify the first element of the 4th list element in names3\n",
    "\n",
    "print('------------------------After Modification------------------------')\n",
    "print(names3)\n",
    "print(names4)"
   ]
  },
  {
   "cell_type": "code",
   "execution_count": 14,
   "metadata": {
    "collapsed": false
   },
   "outputs": [
    {
     "name": "stdout",
     "output_type": "stream",
     "text": [
      "Alexis\n",
      "Chole\n",
      "Helen\n",
      "Jenny\n",
      "Betty\n",
      "Evelyn\n"
     ]
    }
   ],
   "source": [
    "# list iteration\n",
    "for i in names: # iterate the entire list\n",
    "    print(i)"
   ]
  },
  {
   "cell_type": "code",
   "execution_count": 15,
   "metadata": {
    "collapsed": false
   },
   "outputs": [
    {
     "name": "stdout",
     "output_type": "stream",
     "text": [
      "[]\n"
     ]
    }
   ],
   "source": [
    "# empty the list\n",
    "names.clear()\n",
    "print(names)"
   ]
  },
  {
   "cell_type": "markdown",
   "metadata": {},
   "source": [
    "#### Practice\n",
    "Create a simple shopping cart applet.<br> \n",
    "Requirements are as follows: <br>\n",
    "- when starting the program, remind user to input their balance, then print out the products <br>\n",
    "- allow user to select product by item number <br>\n",
    "- after selecting a product, check whether the balance is enough to afford it. If the balance is enough, add the product into the shopping cart and charge the money from balance, otherwise, remind user that the balance is not enough <br>\n",
    "- user can quit the program at anytime, when quiting, print out the products in the shopping cart and the remaining balance"
   ]
  },
  {
   "cell_type": "code",
   "execution_count": 16,
   "metadata": {
    "collapsed": false
   },
   "outputs": [
    {
     "name": "stdout",
     "output_type": "stream",
     "text": [
      "Please input your balance: 1600\n",
      "Product Index: 0, Product: iPhone, Price: 800.00 CAD\n",
      "Product Index: 1, Product: Macbook Pro, Price: 1800.00 CAD\n",
      "Product Index: 2, Product: iWatch, Price: 400.00 CAD\n",
      "Product Index: 3, Product: Kate Spade Satchel, Price: 385.00 CAD\n",
      "Product Index: 4, Product: Latte, Price: 4.50 CAD\n",
      "Product Index: 5, Product: Philipps Toothbrush, Price: 120.00 CAD\n",
      "Please input the product index (type \"q\" for quiting): aaa\n",
      "Invalid input!\n",
      "------------------Shopping Cart-------------------\n",
      "-----------------Current Balance------------------\n",
      "\u001b[41;1m1600.00\u001b[0m CAD\n",
      "Product Index: 0, Product: iPhone, Price: 800.00 CAD\n",
      "Product Index: 1, Product: Macbook Pro, Price: 1800.00 CAD\n",
      "Product Index: 2, Product: iWatch, Price: 400.00 CAD\n",
      "Product Index: 3, Product: Kate Spade Satchel, Price: 385.00 CAD\n",
      "Product Index: 4, Product: Latte, Price: 4.50 CAD\n",
      "Product Index: 5, Product: Philipps Toothbrush, Price: 120.00 CAD\n",
      "Please input the product index (type \"q\" for quiting): 1\n",
      "Your current balance is \u001b[41;1m1600.00\u001b[0m CAD, not enough for your selected item!\n",
      "Product Index: 0, Product: iPhone, Price: 800.00 CAD\n",
      "Product Index: 1, Product: Macbook Pro, Price: 1800.00 CAD\n",
      "Product Index: 2, Product: iWatch, Price: 400.00 CAD\n",
      "Product Index: 3, Product: Kate Spade Satchel, Price: 385.00 CAD\n",
      "Product Index: 4, Product: Latte, Price: 4.50 CAD\n",
      "Product Index: 5, Product: Philipps Toothbrush, Price: 120.00 CAD\n",
      "Please input the product index (type \"q\" for quiting): 0\n",
      "Added \u001b[32;1miPhone\u001b[0m into shopping cart. Your current balance is \u001b[31;1m800.00\u001b[0m CAD\n",
      "Product Index: 0, Product: iPhone, Price: 800.00 CAD\n",
      "Product Index: 1, Product: Macbook Pro, Price: 1800.00 CAD\n",
      "Product Index: 2, Product: iWatch, Price: 400.00 CAD\n",
      "Product Index: 3, Product: Kate Spade Satchel, Price: 385.00 CAD\n",
      "Product Index: 4, Product: Latte, Price: 4.50 CAD\n",
      "Product Index: 5, Product: Philipps Toothbrush, Price: 120.00 CAD\n",
      "Please input the product index (type \"q\" for quiting): q\n",
      "Quiting......\n",
      "------------------Shopping Cart-------------------\n",
      "iPhone\n",
      "-----------------Current Balance------------------\n",
      "\u001b[41;1m800.00\u001b[0m CAD\n"
     ]
    }
   ],
   "source": [
    "product_list = [('iPhone', 800), ('Macbook Pro', 1800), ('iWatch', 400), ('Kate Spade Satchel', 385), \n",
    "                ('Latte', 4.5), ('Philipps Toothbrush', 120)]\n",
    "\n",
    "shopping_cart = []\n",
    "balance = input('Please input your balance: ')\n",
    "\n",
    "if balance.replace('.', '', 1).isdigit(): # check whether the input is a digit\n",
    "    balance = float(balance)\n",
    "    while True:\n",
    "        for index, item in enumerate(product_list):\n",
    "            print('Product Index: %d, Product: %s, Price: %.2f CAD' %(index, item[0], item[1]))\n",
    "    \n",
    "        user_choice = input('Please input the product index (type \"q\" for quiting): ')\n",
    "        \n",
    "        if user_choice.isdecimal(): # the input is a digit\n",
    "            user_choice = int(user_choice)\n",
    "            \n",
    "            if user_choice < len(product_list) and user_choice >= 0: # the input product index exist\n",
    "                p_item = product_list[user_choice]\n",
    "                \n",
    "                if p_item[1] <= balance: # customer can afford the product\n",
    "                    balance -= p_item[1]\n",
    "                    shopping_cart.append(p_item)\n",
    "                    print('Added \\033[32;1m%s\\033[0m into shopping cart. Your current balance is \\033[31;1m%.2f\\033[0m CAD'\n",
    "                          %(p_item[0], balance))\n",
    "                else:\n",
    "                    print('Your current balance is \\033[41;1m%.2f\\033[0m CAD, not enough for your selected item!'%balance)\n",
    "                    \n",
    "            else:\n",
    "                print('This product code does not exist!')\n",
    "                \n",
    "        elif user_choice == 'q':\n",
    "            print('Quiting......')\n",
    "            print('Shopping Cart'.center(50, '-'))\n",
    "            for p in shopping_cart:\n",
    "                print(p[0])\n",
    "            print('Current Balance'.center(50, '-'))\n",
    "            print('\\033[41;1m%.2f\\033[0m CAD' %balance)\n",
    "            break # exit()\n",
    "        else:\n",
    "            print('Invalid input!')\n",
    "            print('Shopping Cart'.center(50, '-'))\n",
    "            for p in shopping_cart:\n",
    "                print(p[0])\n",
    "            print('Current Balance'.center(50, '-'))\n",
    "            print('\\033[41;1m%.2f\\033[0m CAD' %balance)\n",
    "            continue\n",
    "                  \n",
    "else:\n",
    "    print('Please input a number!')"
   ]
  },
  {
   "cell_type": "markdown",
   "metadata": {},
   "source": [
    "### 2. Tuple\n",
    "Tuple is similar to list, it also stores a set of numbers. <br>\n",
    "Once a tuple has been created, it cannot be modified. Therefore tuple is also called a read-only list."
   ]
  },
  {
   "cell_type": "code",
   "execution_count": 17,
   "metadata": {
    "collapsed": false
   },
   "outputs": [
    {
     "name": "stdout",
     "output_type": "stream",
     "text": [
      "1\n",
      "2\n",
      "Diane\n"
     ]
    }
   ],
   "source": [
    "# create a tuple\n",
    "name_tuple = ('Alex', 'Helen', 'Chole', 'Jenny', 'Lisa', 'Diane')\n",
    "# tuple operations\n",
    "print(name_tuple.count('Alex'))   # count the number of elements\n",
    "print(name_tuple.index('Chole'))  # get the index of a specific element\n",
    "print(name_tuple[5])              # get the element based on index"
   ]
  },
  {
   "cell_type": "markdown",
   "metadata": {},
   "source": [
    "### 3. Set\n",
    "A set is an abstract data type that can store unique values, without any particular order."
   ]
  },
  {
   "cell_type": "code",
   "execution_count": 3,
   "metadata": {
    "collapsed": false
   },
   "outputs": [
    {
     "name": "stdout",
     "output_type": "stream",
     "text": [
      "{1, 3, 4, 5, 6, 7, 9} <class 'set'>\n"
     ]
    }
   ],
   "source": [
    "list_1 = [1, 4, 5, 7, 3, 6, 7, 9]\n",
    "set_1 = set(list_1)\n",
    "set_2 = set([2, 6, 0, 66, 22, 8, 4])\n",
    "set_3 = set([1, 3, 7])\n",
    "\n",
    "print(set_1, type(set_1))"
   ]
  },
  {
   "cell_type": "code",
   "execution_count": 5,
   "metadata": {
    "collapsed": false
   },
   "outputs": [
    {
     "name": "stdout",
     "output_type": "stream",
     "text": [
      "{1, 3, 4, 5, 6, 7, 9}\n",
      "{4, 6}\n",
      "{0, 1, 2, 3, 4, 5, 6, 7, 66, 9, 8, 22}\n",
      "{0, 1, 2, 3, 4, 5, 6, 7, 66, 9, 8, 22}\n",
      "{1, 3, 5, 9, 7}\n",
      "{1, 3, 5, 9, 7}\n",
      "{0, 8, 2, 66, 22}\n",
      "{0, 8, 2, 66, 22}\n",
      "{0, 1, 2, 66, 3, 5, 7, 8, 9, 22}\n",
      "{0, 1, 2, 66, 3, 5, 7, 8, 9, 22}\n",
      "False\n",
      "True\n",
      "False\n",
      "True\n",
      "False\n",
      "True\n"
     ]
    }
   ],
   "source": [
    "###############################\n",
    "## Relationship Calculation\n",
    "###############################\n",
    "\n",
    "# intersection\n",
    "print(set_1.intersection(set_1))\n",
    "print(set_1 & set_2)\n",
    "# union\n",
    "print(set_1.union(set_2))\n",
    "print(set_1 | set_2)\n",
    "# difference -- elements in set_1 but not in set_2\n",
    "print(set_1.difference(set_2)) \n",
    "print(set_1 - set_2)\n",
    "# difference -- elements in set_2 but not in set_1\n",
    "print(set_2.difference(set_1))\n",
    "print(set_2 - set_1)\n",
    "# symmetric difference -- the set of elements which are in either of the sets and not in their intersection.  \n",
    "print(set_1.symmetric_difference(set_2))\n",
    "print(set_1 ^ set_2)\n",
    "\n",
    "# determine whether a set is disjoint of another set\n",
    "print(set_1.isdisjoint(set_2))\n",
    "print(set_2.isdisjoint(set_3))\n",
    "# determine whether a set is the subset/superset of another set\n",
    "print(set_1.issubset(set_2)) \n",
    "print(set_3.issubset(set_1)) \n",
    "print(set_1.issuperset(set_2)) \n",
    "print(set_1.issuperset(set_3))"
   ]
  },
  {
   "cell_type": "code",
   "execution_count": 11,
   "metadata": {
    "collapsed": false
   },
   "outputs": [
    {
     "name": "stdout",
     "output_type": "stream",
     "text": [
      "7\n",
      "True\n",
      "True\n",
      "{1, 3, 4, 5, 6, 7, 999, 9}\n",
      "{1, 3, 4, 5, 6, 7, 999, 9, 777, 888, 123}\n",
      "{1, 3, 4, 5, 6, 7, 9, 777, 888, 123}\n",
      "{1, 3, 4, 5, 6, 7, 9, 777, 123}\n",
      "1\n",
      "3\n",
      "{4, 5, 6, 7, 9, 777, 123}\n"
     ]
    }
   ],
   "source": [
    "###############################\n",
    "## Basic Operations\n",
    "###############################\n",
    "\n",
    "# check the length of a set\n",
    "print(len(set_1))\n",
    "\n",
    "# check whether an element exists in a set\n",
    "print(7 in set_1)\n",
    "print(999 not in set_1)\n",
    "\n",
    "# add element(s)\n",
    "set_1.add(999) # add 1 element to a set\n",
    "print(set_1)\n",
    "\n",
    "set_1.update([123, 777, 888]) # add multiple elements to a set\n",
    "print(set_1)\n",
    "\n",
    "# remove elements \n",
    "set_1.remove(999) # remove an element (must be a member) from a set\n",
    "print(set_1)\n",
    "\n",
    "set_1.discard(888) # remove an element from a set if it is a member, do nothing if the element is not a member\n",
    "set_1.discard(999)\n",
    "print(set_1)\n",
    "\n",
    "print(set_1.pop()) # remove and return an arbitrary set element\n",
    "print(set_1.pop())\n",
    "print(set_1)"
   ]
  },
  {
   "cell_type": "markdown",
   "metadata": {
    "collapsed": true
   },
   "source": [
    "### 4. String\n",
    "Basic string operations are as follows:"
   ]
  },
  {
   "cell_type": "code",
   "execution_count": 19,
   "metadata": {
    "collapsed": false
   },
   "outputs": [
    {
     "name": "stdout",
     "output_type": "stream",
     "text": [
      "My name is alex\n",
      "1\n",
      "-----------------my name is alex------------------\n",
      "True\n",
      "8\n",
      "is alex\n",
      "my name is alex***************\n",
      "***************my name is alex\n"
     ]
    }
   ],
   "source": [
    "name1 = 'my name is alex'\n",
    "\n",
    "type(name1)                   # chech the data type of the attribute\n",
    "print(name1.capitalize())     # capitalize the 1st letter of the entire string\n",
    "print(name1.count('na'))      # count the non-overlapping occurrences of the target substring in the string\n",
    "print(name1.center(50, '-'))  # return the string centered in another string ('-' in this case) of the specified length\n",
    "print(name1.endswith('ex'))   # return True if the string ends with the specified suffix, False otherwise\n",
    "print(name1.find('is'))       # return the lowest index in the string where the specified substring sub is found\n",
    "print(name1[name1.find('i'):])# string slicing\n",
    "print(name1.ljust(30, '*'))   # return a left-justified string padded with the specified fill character to the specified length\n",
    "print(name1.rjust(30, '*'))   # return a right-justified string padded with the specified fill character to the specified length"
   ]
  },
  {
   "cell_type": "code",
   "execution_count": 20,
   "metadata": {
    "collapsed": false
   },
   "outputs": [
    {
     "name": "stdout",
     "output_type": "stream",
     "text": [
      "my \t name is alex\n",
      "my                             name is alex\n"
     ]
    }
   ],
   "source": [
    "name2 = 'my \\t name is alex'\n",
    "\n",
    "print(name2)\n",
    "print(name2.expandtabs(tabsize=30)) # return a copy of the string where all tab characters are expanded to the specified length using spaces"
   ]
  },
  {
   "cell_type": "code",
   "execution_count": 21,
   "metadata": {
    "collapsed": false
   },
   "outputs": [
    {
     "name": "stdout",
     "output_type": "stream",
     "text": [
      "my name is Alex, I am 33 years old.\n",
      "my name is Alex, I am 33 years old.\n"
     ]
    }
   ],
   "source": [
    "name3 = 'my name is {name}, I am {year} years old.'\n",
    "\n",
    "print(name3.format(name = 'Alex', year = 33))       # string formatting\n",
    "print(name3.format_map({'name':'Alex', 'year':33})) # string formatting using dict"
   ]
  },
  {
   "cell_type": "code",
   "execution_count": 22,
   "metadata": {
    "collapsed": false
   },
   "outputs": [
    {
     "name": "stdout",
     "output_type": "stream",
     "text": [
      "1+2+3+4\n"
     ]
    }
   ],
   "source": [
    "# Return a string which is the concatenation of the strings in the iterable by a specified separator.\n",
    "print('+'.join(['1', '2', '3', '4'])) # The separator between elements is '+' in this case."
   ]
  },
  {
   "cell_type": "code",
   "execution_count": 23,
   "metadata": {
    "collapsed": false
   },
   "outputs": [
    {
     "name": "stdout",
     "output_type": "stream",
     "text": [
      "True\n",
      "122.2\n"
     ]
    }
   ],
   "source": [
    "# check whether a string is a number (float included)\n",
    "s = '122.2'\n",
    "print(s.replace('.','',1).isdigit())\n",
    "print(s)"
   ]
  },
  {
   "cell_type": "code",
   "execution_count": 24,
   "metadata": {
    "collapsed": false
   },
   "outputs": [
    {
     "name": "stdout",
     "output_type": "stream",
     "text": [
      "alex\n",
      "ALEX\n",
      "-Alex- \n",
      "  \n",
      "  \n",
      " -Alex-\n",
      "-Alex-\n",
      "aLex Li\n",
      "aLex li\n",
      "5\n",
      "['1', '2', '3', '4']\n",
      "['1+2', '3+4']\n",
      "aLEX lI\n",
      "Alex Li\n",
      "0000000000000alex li\n"
     ]
    }
   ],
   "source": [
    "print('Alex'.lower())                # convert the target string to lowercase\n",
    "print('Alex'.upper())                # convert the target string to uppercase\n",
    "print('  \\n -Alex- \\n  '.lstrip())   # return a copy of the string with leading whitespace removed\n",
    "print('  \\n -Alex- \\n  '.rstrip())   # return a copy of the string with trailing whitespace removed\n",
    "print('  \\n -Alex- \\n  '.strip())    # return a copy of the string with leading and trailing whitespace removed\n",
    "print('alex li'.replace('l', 'L'))   # return a copy of the string with all occurrences of the speificed substring replaced by new\n",
    "print('alex li'.replace('l', 'L', 1))# if the optional argument is given (1 in this case), only the 1st count occurrences are replaced\n",
    "print('alex li'.rfind('l'))          # return the highest index in the string where substring is found\n",
    "print('1+2+3+4'.split('+'))          # return a list of the words in the string, using sep as the delimiter string\n",
    "print('1+2\\n3+4'.splitlines())       # return a list of the lines in the string, breaking at line boundaries\n",
    "print('Alex Li'.swapcase())          # return a copy of the string with uppercase characters converted to lowercase and vice versa\n",
    "print('alex li'.title())             # return a titlecased version of the string\n",
    "print('alex li'.zfill(20))           # pad a string with zeros on the left to fill a field of the specified width"
   ]
  },
  {
   "cell_type": "code",
   "execution_count": 25,
   "metadata": {
    "collapsed": false
   },
   "outputs": [
    {
     "name": "stdout",
     "output_type": "stream",
     "text": [
      "my n1m5 is 1l5x li\n"
     ]
    }
   ],
   "source": [
    "# return a translation table mapping ordinals (integers) or characters to ordinals,strings or None.\n",
    "code = str.maketrans('abcdefg', '12!@56$') \n",
    "print('my name is alex li'.translate(code))"
   ]
  },
  {
   "cell_type": "markdown",
   "metadata": {},
   "source": [
    "### 5. dict\n",
    "Dictionary is a set of \"key:value\" pairs.<br>\n",
    "The values of a dictionary can be of any type, but the keys must be of an immutable data type such as strings, numbers, or tuples.<br>\n",
    "Keys are unique within a dictionary while values may not be. <br>\n",
    "Basic dictionary operations are as follows:"
   ]
  },
  {
   "cell_type": "code",
   "execution_count": 26,
   "metadata": {
    "collapsed": false
   },
   "outputs": [
    {
     "name": "stdout",
     "output_type": "stream",
     "text": [
      "{'stu1102': 'Emma', 'stu1101': 'Sam', 'stu1103': 'Sheldon', 'stu1105': 'Lee', 'stu1104': 'Mary'}\n",
      "{8: 'test', 6: 'test', 7: 'test'}\n",
      "{8: 'test', 6: 'modified', 7: 'test'}\n",
      "{8: [1, {'name': 'Jane'}, 3], 6: [1, {'name': 'Jane'}, 3], 7: [1, {'name': 'Jane'}, 3]}\n",
      "{8: [1, {'name': 'Jack'}, 3], 6: [1, {'name': 'Jack'}, 3], 7: [1, {'name': 'Jack'}, 3]}\n"
     ]
    }
   ],
   "source": [
    "# create a dict\n",
    "info = {\n",
    "    'stu1101': 'Sam',\n",
    "    'stu1102': 'Emma',\n",
    "    'stu1103': 'Sheldon',\n",
    "    'stu1104': 'Mary',\n",
    "    'stu1105': 'Lee'\n",
    "}\n",
    "print(info) # dict is unordered\n",
    "\n",
    "# create a dict with keys from iterable and values equal to value\n",
    "# this method will cause some problems when changing values of a specified key\n",
    "dict1 = dict.fromkeys([6,7,8], 'test')\n",
    "print(dict1)\n",
    "dict1[6] = 'modified'\n",
    "print(dict1)\n",
    "\n",
    "dict2 = dict.fromkeys([6,7,8], [1,{'name':'Jane'},3])\n",
    "print(dict2)\n",
    "dict2[6][1]['name'] = 'Jack'\n",
    "print(dict2)"
   ]
  },
  {
   "cell_type": "code",
   "execution_count": 27,
   "metadata": {
    "collapsed": false
   },
   "outputs": [
    {
     "name": "stdout",
     "output_type": "stream",
     "text": [
      "Sam\n",
      "Sam\n",
      "None\n",
      "True\n",
      "False\n"
     ]
    }
   ],
   "source": [
    "# access dictionary elements\n",
    "# method 1 -- if the key doesn't exist in the dict, an error will be reported\n",
    "print(info['stu1101']) \n",
    "# method 2 -- if the key doesn't exist in the dict, None will be returned\n",
    "print(info.get('stu1101'))\n",
    "print(info.get('stu1109')) \n",
    "# check whether the specified key exists in the dict\n",
    "print('stu1103' in info) \n",
    "print('123' in info)"
   ]
  },
  {
   "cell_type": "code",
   "execution_count": 28,
   "metadata": {
    "collapsed": false
   },
   "outputs": [
    {
     "name": "stdout",
     "output_type": "stream",
     "text": [
      "{'stu1102': 'Emma', 'stu1103': 'Sheldon', 'stu1105': 'Lee', 'stu1106': 'Tom', 'stu1101': 'Sam', 'stu1104': 'Mary'}\n",
      "{'stu1102': 'Emma', 'stu1103': 'Sheldon', 'stu1105': 'Lee', 'stu1106': 'Tom', 'stu1101': 'Lise', 'stu1104': 'Mary'}\n",
      "{'stu1102': 'Emma', 'stu1103': 'Sheldon', 'stu1105': 'Lee', 'stu1106': 'Tommy', 'stu1101': 'Lise', 'stu1107': 'Jenny', 'stu1104': 'Mary'}\n"
     ]
    }
   ],
   "source": [
    "# updating dictionary\n",
    "info['stu1106'] = 'Tom' # adding a new entry\n",
    "print(info)\n",
    "\n",
    "info['stu1101'] = 'Lise' # modifying an existing entry\n",
    "print(info)\n",
    "\n",
    "info2 = {'stu1106': 'Tommy', 'stu1107': 'Jenny'} # update a dict via adding and modification\n",
    "info.update(info2)\n",
    "print(info)"
   ]
  },
  {
   "cell_type": "code",
   "execution_count": 29,
   "metadata": {
    "collapsed": false
   },
   "outputs": [
    {
     "name": "stdout",
     "output_type": "stream",
     "text": [
      "{'stu1102': 'Emma', 'stu1103': 'Sheldon', 'stu1106': 'Tommy', 'stu1101': 'Lise', 'stu1107': 'Jenny', 'stu1104': 'Mary'}\n",
      "Tommy\n",
      "{'stu1102': 'Emma', 'stu1103': 'Sheldon', 'stu1101': 'Lise', 'stu1107': 'Jenny', 'stu1104': 'Mary'}\n",
      "{'stu1103': 'Sheldon', 'stu1101': 'Lise', 'stu1107': 'Jenny', 'stu1104': 'Mary'}\n",
      "{}\n"
     ]
    }
   ],
   "source": [
    "# delete dictionary elements\n",
    "del info['stu1105']       # remove entry with specified key\n",
    "print(info)\n",
    "\n",
    "print(info.pop('stu1106'))# remove specified key and return the corresponding value.\n",
    "print(info)\n",
    "\n",
    "info.popitem()            # randomly remove an entry\n",
    "print(info)\n",
    "\n",
    "info.clear()              # remove all entries in dictionary\n",
    "print(info)\n",
    "\n",
    "del info                  # delete the entire dictionary"
   ]
  },
  {
   "cell_type": "code",
   "execution_count": 30,
   "metadata": {
    "collapsed": false
   },
   "outputs": [
    {
     "name": "stdout",
     "output_type": "stream",
     "text": [
      "{'Australia': ['Sydney', 'Melbourne']}\n",
      "None\n",
      "Sydney\n",
      "['Sydney', 'Melbourne', 'Brisbane']\n"
     ]
    }
   ],
   "source": [
    "# create a nested dictionary\n",
    "world_info = {\n",
    "    'Asia': {\n",
    "        'China': ['Beijing', 'Shanghai', 'Xi\\'an'],\n",
    "        'Korea': ['Souel', 'Pusan'],\n",
    "        'Japan': ['Tokyo', 'Hokkaido', 'Nagoya']\n",
    "    },\n",
    "    'Europe': {\n",
    "        'England': ['London', 'Manchester', 'Liverppol'],\n",
    "        'France': ['Paris', 'Lyon']\n",
    "    },\n",
    "    'North America': {\n",
    "        'Canada': ['Ottawa', 'Toronto', 'Sudbury'],\n",
    "        'United States': ['Seattle', 'New York City', 'Boston']\n",
    "    },\n",
    "    'Oceania': {\n",
    "        'Australia': ['Sydney', 'Melbourne']\n",
    "    }\n",
    "}\n",
    "\n",
    "# access dictionary elements\n",
    "print(world_info.get('Oceania'))\n",
    "print((world_info.get('Oceania')).get('New Zealand'))\n",
    "print(world_info['Oceania']['Australia'][0])\n",
    "\n",
    "# updating dictionary\n",
    "world_info['Oceania']['Australia'].append('Brisbane')\n",
    "print((world_info.get('Oceania')).get('Australia'))"
   ]
  },
  {
   "cell_type": "code",
   "execution_count": 31,
   "metadata": {
    "collapsed": false
   },
   "outputs": [
    {
     "name": "stdout",
     "output_type": "stream",
     "text": [
      "--------------------------Method 1--------------------------\n",
      "Europe {'France': ['Paris', 'Lyon'], 'England': ['London', 'Manchester', 'Liverppol']}\n",
      "North America {'Canada': ['Ottawa', 'Toronto', 'Sudbury'], 'United States': ['Seattle', 'New York City', 'Boston']}\n",
      "Oceania {'Australia': ['Sydney', 'Melbourne', 'Brisbane']}\n",
      "Asia {'Korea': ['Souel', 'Pusan'], 'China': ['Beijing', 'Shanghai', \"Xi'an\"], 'Japan': ['Tokyo', 'Hokkaido', 'Nagoya']}\n",
      "--------------------------Method 2--------------------------\n",
      "Europe {'France': ['Paris', 'Lyon'], 'England': ['London', 'Manchester', 'Liverppol']}\n",
      "North America {'Canada': ['Ottawa', 'Toronto', 'Sudbury'], 'United States': ['Seattle', 'New York City', 'Boston']}\n",
      "Oceania {'Australia': ['Sydney', 'Melbourne', 'Brisbane']}\n",
      "Asia {'Korea': ['Souel', 'Pusan'], 'China': ['Beijing', 'Shanghai', \"Xi'an\"], 'Japan': ['Tokyo', 'Hokkaido', 'Nagoya']}\n"
     ]
    }
   ],
   "source": [
    "# dict iteration\n",
    "# method 1 -- efficient\n",
    "print('Method 1'.center(60, '-'))\n",
    "for i in world_info:\n",
    "    print(i, world_info[i])\n",
    "\n",
    "# method 2 -- convinient\n",
    "print('Method 2'.center(60, '-'))\n",
    "for k,v in world_info.items():\n",
    "    print(k, v)"
   ]
  },
  {
   "cell_type": "markdown",
   "metadata": {},
   "source": [
    "#### Practice\n",
    "Create a 3-level menu.<br> \n",
    "Requirements are as follows: <br>\n",
    "- at each level, print the menu content <br>\n",
    "- at each level, user select based on the pop up menu content to enter into the next level <br>\n",
    "- user can choose to enter into next level, go back to the previous level or quit the menu"
   ]
  },
  {
   "cell_type": "code",
   "execution_count": 32,
   "metadata": {
    "collapsed": true
   },
   "outputs": [],
   "source": [
    "data = {\n",
    "    'Asia': {\n",
    "        'China': {\n",
    "            'Beijing': ['the great wall', 'forbidden palace', 'Tiananmen square'], \n",
    "            'Shanghai': ['Disneyland'], \n",
    "            'Xi\\'an': ['bell tower', 'drum tower']\n",
    "        },\n",
    "    },\n",
    "    'Europe': {\n",
    "        'France': {\n",
    "            'Paris': ['Eiffel tower']\n",
    "        }\n",
    "    },\n",
    "    'North America': {\n",
    "        'Canada': {\n",
    "            'Toronto': ['CN tower', 'Wonderland']\n",
    "        }\n",
    "    },\n",
    "    'Oceania': {\n",
    "        'Australia': {\n",
    "            'Sydney': ['Sydney Opera House']\n",
    "        }\n",
    "    }\n",
    "}"
   ]
  },
  {
   "cell_type": "code",
   "execution_count": 33,
   "metadata": {
    "collapsed": true
   },
   "outputs": [],
   "source": [
    "def three_level_menu(three_level_dict, exit_flag = True):\n",
    "    while exit_flag:\n",
    "        for i in three_level_dict: # print out the 1st level menu\n",
    "            print(i)\n",
    "        \n",
    "        choice1 = input('1. Please select your choice (press \\'b\\' to return, \\'q\\' to quit): ')\n",
    "        if choice1 in three_level_dict:\n",
    "            while exit_flag:\n",
    "                for j in three_level_dict[choice1]: # print out the 2nd level menu\n",
    "                    print('\\t', j)\n",
    "                    \n",
    "                choice2 = input('2. Please select your choice (press \\'b\\' to return, \\'q\\' to quit): ')\n",
    "                if choice2 in three_level_dict[choice1]:\n",
    "                    while exit_flag:\n",
    "                        for k in three_level_dict[choice1][choice2]: # print out the 3rd level menu\n",
    "                            print('\\t\\t', k)\n",
    "                            \n",
    "                        choice3 = input('3. Please select your choice (press \\'b\\' to return, \\'q\\' to quit): ')\n",
    "                        if choice3 in three_level_dict[choice1][choice2]:\n",
    "                            for m in three_level_dict[choice1][choice2][choice3]:\n",
    "                                print('\\t\\t\\t', m)\n",
    "                            \n",
    "                            warn = input('This is the last level, press \\'b\\' to return, \\'q\\' to quit: ')\n",
    "                            if warn == 'b': # go back to the upper level\n",
    "                                pass \n",
    "                            elif warn == 'q': # quit the menu\n",
    "                                exit_flag = False\n",
    "                        \n",
    "                        elif choice3 == 'b': # go back to the upper level\n",
    "                            break\n",
    "                        elif choice3 == 'q': # quit the menu\n",
    "                            exit_flag = False\n",
    "                \n",
    "                elif choice2 == 'b': # go back to the upper level\n",
    "                    break\n",
    "                elif choice2 == 'q': # quit the menu\n",
    "                    exit_flag = False\n",
    "                    \n",
    "        elif choice1 == 'b': # go back to the upper level\n",
    "            break\n",
    "        elif choice1 == 'q': # quit the menu\n",
    "            exit_flag = False"
   ]
  },
  {
   "cell_type": "code",
   "execution_count": 34,
   "metadata": {
    "collapsed": false
   },
   "outputs": [
    {
     "name": "stdout",
     "output_type": "stream",
     "text": [
      "Europe\n",
      "North America\n",
      "Oceania\n",
      "Asia\n",
      "1. Please select your choice (press 'b' to return, 'q' to quit): Asia\n",
      "\t China\n",
      "2. Please select your choice (press 'b' to return, 'q' to quit): China\n",
      "\t\t Xi'an\n",
      "\t\t Shanghai\n",
      "\t\t Beijing\n",
      "3. Please select your choice (press 'b' to return, 'q' to quit): Beijing\n",
      "\t\t\t the great wall\n",
      "\t\t\t forbidden palace\n",
      "\t\t\t Tiananmen square\n",
      "This is the last level, press 'b' to return, 'q' to quit: b\n",
      "\t\t Xi'an\n",
      "\t\t Shanghai\n",
      "\t\t Beijing\n",
      "3. Please select your choice (press 'b' to return, 'q' to quit): b\n",
      "\t China\n",
      "2. Please select your choice (press 'b' to return, 'q' to quit): q\n"
     ]
    }
   ],
   "source": [
    "three_level_menu(data)"
   ]
  }
 ],
 "metadata": {
  "anaconda-cloud": {},
  "kernelspec": {
   "display_name": "Python [default]",
   "language": "python",
   "name": "python3"
  },
  "language_info": {
   "codemirror_mode": {
    "name": "ipython",
    "version": 3
   },
   "file_extension": ".py",
   "mimetype": "text/x-python",
   "name": "python",
   "nbconvert_exporter": "python",
   "pygments_lexer": "ipython3",
   "version": "3.5.5"
  }
 },
 "nbformat": 4,
 "nbformat_minor": 2
}
