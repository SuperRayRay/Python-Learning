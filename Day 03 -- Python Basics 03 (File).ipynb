{
 "cells": [
  {
   "cell_type": "code",
   "execution_count": 31,
   "metadata": {
    "collapsed": true
   },
   "outputs": [],
   "source": [
    "####################################################\n",
    "## Basic File Operations - open a file\n",
    "####################################################\n",
    "\n",
    "# Method 1: open files and close files after done\n",
    "\n",
    "# r -- read only\n",
    "f1 = open('C:/Users/Ruihua Guo/Desktop/Python Note/lyrics.txt', encoding='utf-8', mode='r') \n",
    "# w -- write only, create a new file and write lines in it\n",
    "f2 = open('C:/Users/Ruihua Guo/Desktop/Python Note/my_lyrics.txt', encoding='utf-8', mode='w')\n",
    "# a -- append only, append new lines to the file \n",
    "f3 = open('C:/Users/Ruihua Guo/Desktop/Python Note/lyrics.txt', encoding='utf-8', mode='a')\n",
    "# r+ \n",
    "# w+ \n",
    "# a+ \n",
    "# rb\n",
    "\n",
    "f1.close()\n",
    "f2.close()\n",
    "f3.close()"
   ]
  },
  {
   "cell_type": "code",
   "execution_count": 3,
   "metadata": {
    "collapsed": false
   },
   "outputs": [
    {
     "name": "stdout",
     "output_type": "stream",
     "text": [
      "Seems the love I've known has always been\n",
      "The most destructive kind\n",
      "Guess that's why now I feel so old\n",
      "Before my time.\n",
      "Yesterday when I was young\n",
      "The taste of life was sweet as rain upon my tongue.\n",
      "I teased at life as if it were a foolish game,\n",
      "The way the evening breeze may tease a candle flame.\n",
      "The thousand dreams I dreamed, the splendid things I planned\n",
      "I always built to last on weak and shifting sand.\n",
      "I lived by night and shunned the naked light of the day\n",
      "And only now I see how the years ran away.\n",
      "Yesterday when I was young\n",
      "So many happy songs were waiting to be sung,\n",
      "So many wild pleasures lay in store for me\n",
      "And so much pain my dazzled eyes refused to see.\n",
      "I ran so fast that time and youth at last ran out,\n",
      "I never stopped to think what life was all…\n"
     ]
    }
   ],
   "source": [
    "# Method 2: open files and close files implicitly after done\n",
    "\n",
    "with open('C:/Users/Ruihua Guo/Desktop/Python Note/lyrics.txt', encoding='utf-8', mode='r') as f1,\\\n",
    "     open('C:/Users/Ruihua Guo/Desktop/Python Note/my_lyrics.txt', encoding='utf-8', mode='w') as f2:\n",
    "        for line in f1:\n",
    "            print(line.strip())"
   ]
  },
  {
   "cell_type": "code",
   "execution_count": 42,
   "metadata": {
    "collapsed": false,
    "scrolled": false
   },
   "outputs": [
    {
     "name": "stdout",
     "output_type": "stream",
     "text": [
      "first line:  Seems the love I've known has always been\n",
      "second line:  The most destructive kind\n",
      "next 2 lines:\n",
      "Guess that's why now I feel so old\n",
      "Before my time.\n",
      "Yesterday when I was young\n",
      "The taste of life was sweet as rain upon my tongue.\n",
      "I teased at life as if it were a foolish game,\n",
      "The way the evening breeze may tease a candle flame.\n",
      "The thousand dreams I dreamed, the splendid things I planned\n",
      "I always built to last on weak and shifting sand.\n",
      "I lived by night and shunned the naked light of the day\n",
      "And only now I see how the years ran away.\n",
      "Yesterday when I was young\n",
      "So many happy songs were waiting to be sung,\n",
      "So many wild pleasures lay in store for me\n",
      "And so much pain my dazzled eyes refused to see.\n",
      "I ran so fast that time and youth at last ran out,\n",
      "I never stopped to think what life was all…\n",
      "life is too short, enjoy the moment right now\n",
      "--------------END----------------\n",
      "\n"
     ]
    }
   ],
   "source": [
    "####################################################\n",
    "## Basic File Operations - read a file\n",
    "####################################################\n",
    "\n",
    "f = open('C:/Users/Ruihua Guo/Desktop/Python Note/lyrics.txt', encoding='utf-8', mode='r') \n",
    "\n",
    "# read the file line by line (read until newline)\n",
    "first_line = f.readline().strip() # strip() helps remove the leading and trailing whitespace from the line\n",
    "second_line = f.readline().strip()\n",
    "print('first line: ', first_line) \n",
    "print('second line: ', second_line)\n",
    "\n",
    "\n",
    "# read the next 2 lines from the file\n",
    "print('next 2 lines:')\n",
    "for i in range(2):\n",
    "    print(f.readline().strip())\n",
    "\n",
    "    \n",
    "# read the rest content of the file, not recommend if the file is large\n",
    "\n",
    "# method 1\n",
    "for line in f.readlines():\n",
    "    if i < 2:\n",
    "        print(line.strip())\n",
    "print('--------------END----------------')\n",
    "\n",
    "# method 2\n",
    "# Here, nothing will be red into the attribute rest_lines, since the pointer has reached to the \n",
    "# very end of the file during the previous execution of f1.readlines().  \n",
    "# We need to reset the pointer to read the file again\n",
    "rest_lines = f.read() \n",
    "print(rest_lines) \n",
    "\n",
    "f.close()"
   ]
  },
  {
   "cell_type": "code",
   "execution_count": 36,
   "metadata": {
    "collapsed": false
   },
   "outputs": [
    {
     "name": "stdout",
     "output_type": "stream",
     "text": [
      "Seems the love I've known has always been\n",
      "The most destructive kind\n",
      "Guess that's why now I feel so old\n",
      "Before my time.\n",
      "Yesterday when I was young\n",
      "The taste of life was sweet as rain upon my tongue.\n",
      "I teased at life as if it were a foolish game,\n",
      "The way the evening breeze may tease a candle flame.\n",
      "---------------Separator----------------\n",
      "I always built to last on weak and shifting sand.\n",
      "I lived by night and shunned the naked light of the day\n",
      "And only now I see how the years ran away.\n",
      "Yesterday when I was young\n",
      "So many happy songs were waiting to be sung,\n",
      "So many wild pleasures lay in store for me\n",
      "And so much pain my dazzled eyes refused to see.\n",
      "I ran so fast that time and youth at last ran out,\n",
      "I never stopped to think what life was all…\n",
      "life is too short, enjoy the moment right now\n"
     ]
    }
   ],
   "source": [
    "####################################################\n",
    "## Basic File Operations - read a file (PRACTICE I)\n",
    "####################################################\n",
    "\n",
    "# Read all lines from a file and print them out line by line,\n",
    "# when it comes the 9th line, pring a separating line instead.\n",
    "\n",
    "# Method 1\n",
    "# This method need to load the entire file all at once to the memory, it's nnot good when the file is large.\n",
    "f = open('C:/Users/Ruihua Guo/Desktop/Python Note/lyrics.txt', encoding='utf-8', mode='r') \n",
    "\n",
    "for idx, line in enumerate(f.readlines()):\n",
    "    if idx == 8: # idx starts from 0\n",
    "        print('---------------Separator----------------')\n",
    "        continue\n",
    "    print(line.strip())\n",
    "\n",
    "f.close()"
   ]
  },
  {
   "cell_type": "code",
   "execution_count": 37,
   "metadata": {
    "collapsed": false
   },
   "outputs": [
    {
     "name": "stdout",
     "output_type": "stream",
     "text": [
      "Seems the love I've known has always been\n",
      "The most destructive kind\n",
      "Guess that's why now I feel so old\n",
      "Before my time.\n",
      "Yesterday when I was young\n",
      "The taste of life was sweet as rain upon my tongue.\n",
      "I teased at life as if it were a foolish game,\n",
      "The way the evening breeze may tease a candle flame.\n",
      "---------------Separator----------------\n",
      "I always built to last on weak and shifting sand.\n",
      "I lived by night and shunned the naked light of the day\n",
      "And only now I see how the years ran away.\n",
      "Yesterday when I was young\n",
      "So many happy songs were waiting to be sung,\n",
      "So many wild pleasures lay in store for me\n",
      "And so much pain my dazzled eyes refused to see.\n",
      "I ran so fast that time and youth at last ran out,\n",
      "I never stopped to think what life was all…\n",
      "life is too short, enjoy the moment right now\n"
     ]
    }
   ],
   "source": [
    "# Method 2\n",
    "# This method need to load the entire file all at once to the memory, it's nnot good when the file is large.\n",
    "f = open('C:/Users/Ruihua Guo/Desktop/Python Note/lyrics.txt', encoding='utf-8', mode='r') \n",
    "\n",
    "idx = 0\n",
    "for line in f:\n",
    "    idx += 1\n",
    "    if idx == 9: \n",
    "        print('---------------Separator----------------')\n",
    "        continue\n",
    "    print(line.strip())\n",
    "\n",
    "f.close()"
   ]
  },
  {
   "cell_type": "code",
   "execution_count": 59,
   "metadata": {
    "collapsed": false
   },
   "outputs": [],
   "source": [
    "####################################################\n",
    "## Basic File Operations - read a file (PRACTICE II)\n",
    "####################################################\n",
    "\n",
    "# open a file, make certain modifications and save it to another file\n",
    "\n",
    "f1 = open('C:/Users/Ruihua Guo/Desktop/Python Note/lyrics.txt', encoding='utf-8', mode='r') \n",
    "f2 = open('C:/Users/Ruihua Guo/Desktop/Python Note/lyrics_changed.txt', encoding='utf-8', mode='w') \n",
    "\n",
    "for line in f1:\n",
    "    if 'I' in line:\n",
    "        line = line.replace('I', 'you')\n",
    "    f2.write(line)\n",
    "\n",
    "f1.close() \n",
    "f2.close()"
   ]
  },
  {
   "cell_type": "code",
   "execution_count": 39,
   "metadata": {
    "collapsed": false
   },
   "outputs": [
    {
     "name": "stdout",
     "output_type": "stream",
     "text": [
      "0\n",
      "Seems the love I've known has always been\n",
      "The most destructive kind\n",
      "70\n",
      "-------------RESET POINTER--------------\n",
      "Seems the love I've known has always been\n",
      "The most destructive kind\n"
     ]
    }
   ],
   "source": [
    "####################################################\n",
    "## Basic File Operations - file pointer\n",
    "####################################################\n",
    "f = open('C:/Users/Ruihua Guo/Desktop/Python Note/lyrics.txt', encoding='utf-8', mode='r') \n",
    "\n",
    "print(f.tell())     # check the position of the file pointer in the present\n",
    "print(f.readline().strip())\n",
    "print(f.readline().strip())\n",
    "print(f.tell())     # check the position of the file pointer in the present\n",
    "\n",
    "print('RESET POINTER'.center(40, '-'))\n",
    "\n",
    "f.seek(0)           # set the file pointer to its original position\n",
    "print(f.readline().strip())\n",
    "print(f.readline().strip())\n",
    "\n",
    "f.close()"
   ]
  },
  {
   "cell_type": "code",
   "execution_count": 55,
   "metadata": {
    "collapsed": false
   },
   "outputs": [],
   "source": [
    "####################################################\n",
    "## Basic File Operations - write lines into a file\n",
    "####################################################\n",
    "\n",
    "f1 = open('C:/Users/Ruihua Guo/Desktop/Python Note/my_lyrics.txt', encoding='utf-8', mode='w')\n",
    "f2 = open('C:/Users/Ruihua Guo/Desktop/Python Note/lyrics.txt', encoding='utf-8', mode='a')\n",
    "\n",
    "# write lines into a new file\n",
    "f1.write('When I was young I\\'d listen to the radio \\n')\n",
    "f1.write('Waitin\\' for my favorite songs \\n')\n",
    "\n",
    "# append lines to the end of a file\n",
    "f2.write('\\nlife is too short, enjoy the moment right now')\n",
    "\n",
    "f1.close()\n",
    "f2.close()"
   ]
  },
  {
   "cell_type": "code",
   "execution_count": 57,
   "metadata": {
    "collapsed": false
   },
   "outputs": [],
   "source": [
    "####################################################\n",
    "## Basic File Operations - file truncating\n",
    "####################################################\n",
    "f = open('C:/Users/Ruihua Guo/Desktop/Python Note/my_lyrics.txt', encoding='utf-8', mode='a')\n",
    "# Truncate file to size bytes. File pointer is left unchanged.\n",
    "f.truncate(10)\n",
    "\n",
    "f.close()"
   ]
  },
  {
   "cell_type": "code",
   "execution_count": 44,
   "metadata": {
    "collapsed": false,
    "scrolled": false
   },
   "outputs": [
    {
     "name": "stdout",
     "output_type": "stream",
     "text": [
      "File 1:  cp936\n",
      "File 2:  utf-8\n",
      "File 1 readable:  False\n",
      "File 2 readable:  True\n",
      "File 1 writable:  True\n",
      "File 2 writable:  False\n"
     ]
    }
   ],
   "source": [
    "####################################################\n",
    "## Basic File Operations - other operations\n",
    "####################################################\n",
    "f01 = open('C:/Users/Ruihua Guo/Desktop/Python Note/lyrics.txt', mode='w') \n",
    "f02 = open('C:/Users/Ruihua Guo/Desktop/Python Note/lyrics.txt', encoding='utf-8', mode='r') \n",
    "print('File 1: ', f01.encoding)\n",
    "print('File 2: ', f02.encoding)\n",
    "print('File 1 readable: ', f01.readable())\n",
    "print('File 2 readable: ', f02.readable())\n",
    "print('File 1 writable: ', f01.writable())\n",
    "print('File 2 writable: ', f02.writable())\n",
    "\n",
    "f01.close()\n",
    "f02.close()"
   ]
  },
  {
   "cell_type": "code",
   "execution_count": 47,
   "metadata": {
    "collapsed": false
   },
   "outputs": [
    {
     "name": "stdout",
     "output_type": "stream",
     "text": [
      "##################################################"
     ]
    }
   ],
   "source": [
    "####################################################\n",
    "## Basic File Operations - flush write buffers\n",
    "####################################################\n",
    "\n",
    "# print progress bar using flush()\n",
    "import sys, time\n",
    "\n",
    "for i in range(50):\n",
    "    sys.stdout.write('#')\n",
    "    sys.stdout.flush()\n",
    "    time.sleep(0.1)        # print a '#' every 0.1 sec"
   ]
  }
 ],
 "metadata": {
  "anaconda-cloud": {},
  "kernelspec": {
   "display_name": "Python [default]",
   "language": "python",
   "name": "python3"
  },
  "language_info": {
   "codemirror_mode": {
    "name": "ipython",
    "version": 3
   },
   "file_extension": ".py",
   "mimetype": "text/x-python",
   "name": "python",
   "nbconvert_exporter": "python",
   "pygments_lexer": "ipython3",
   "version": "3.5.5"
  }
 },
 "nbformat": 4,
 "nbformat_minor": 2
}
